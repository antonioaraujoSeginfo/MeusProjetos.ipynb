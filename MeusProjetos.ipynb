{
 "cells": [
  {
   "cell_type": "markdown",
   "id": "0e518caa",
   "metadata": {},
   "source": [
    "Meus primeiros programas, bora pra cima"
   ]
  },
  {
   "cell_type": "code",
   "execution_count": 1,
   "id": "13e17e32",
   "metadata": {},
   "outputs": [
    {
     "name": "stdout",
     "output_type": "stream",
     "text": [
      "Hello world!\n"
     ]
    }
   ],
   "source": [
    "print('Hello world!')"
   ]
  },
  {
   "cell_type": "markdown",
   "id": "fcd35a43",
   "metadata": {},
   "source": [
    "faça um Programa que peça um número e então mostre a mensagem O número informado foi [número]."
   ]
  },
  {
   "cell_type": "code",
   "execution_count": 9,
   "id": "309653a9",
   "metadata": {},
   "outputs": [
    {
     "name": "stdout",
     "output_type": "stream",
     "text": [
      "Informe um número: 3\n",
      "O número informado foi 3.\n"
     ]
    }
   ],
   "source": [
    "numero = input('Informe um número: ')\n",
    "print(f'O número informado foi {numero}.')"
   ]
  },
  {
   "cell_type": "markdown",
   "id": "7ed6debd",
   "metadata": {},
   "source": [
    "Faça um Programa que peça dois n´meros e imprima a soma."
   ]
  },
  {
   "cell_type": "code",
   "execution_count": 11,
   "id": "02455a6f",
   "metadata": {},
   "outputs": [
    {
     "name": "stdout",
     "output_type": "stream",
     "text": [
      "Informe o primeiro número: 5\n",
      "A soma dos dois números:  5\n",
      "A soma dos dois números: 10.0\n"
     ]
    }
   ],
   "source": [
    "x = float(input('Informe o primeiro número: '))\n",
    "y = float(input('A soma dos dois números:  '))\n",
    "\n",
    "print('A soma dos dois números:', x + y)"
   ]
  },
  {
   "cell_type": "markdown",
   "id": "0cea7d23",
   "metadata": {},
   "source": [
    "Faça um Programa que peça as 4 notas bimestrais e mostre a média."
   ]
  },
  {
   "cell_type": "code",
   "execution_count": 8,
   "id": "a11f8665",
   "metadata": {},
   "outputs": [
    {
     "name": "stdout",
     "output_type": "stream",
     "text": [
      "Informe a 1ª nota: 7\n",
      "Informe a 1ª nota: 8\n",
      "Informe a 1ª nota: 9\n",
      "Informe a 1ª nota: 5\n",
      "A média é: 7.25\n"
     ]
    }
   ],
   "source": [
    "nota1 = float(input('Informe a 1ª nota: '))\n",
    "nota2 = float(input('Informe a 1ª nota: '))\n",
    "nota3 = float(input('Informe a 1ª nota: '))\n",
    "nota4 = float(input('Informe a 1ª nota: '))\n",
    "\n",
    "media = (nota1 + nota2 + nota3 + nota4) / 4\n",
    "\n",
    "print('A média é:', media)\n"
   ]
  },
  {
   "cell_type": "markdown",
   "id": "128bb58d",
   "metadata": {},
   "source": [
    "Faça um Programa que converta metro em centímetros."
   ]
  },
  {
   "cell_type": "code",
   "execution_count": 14,
   "id": "1d09e325",
   "metadata": {},
   "outputs": [
    {
     "name": "stdout",
     "output_type": "stream",
     "text": [
      "Informe um comprimento em metro: 100\n",
      "este comprimento em centímetros é: 10000.0 cm\n"
     ]
    }
   ],
   "source": [
    "comprimento_m = float(input('Informe um comprimento em metro: '))\n",
    "comprimento_cm = comprimento_m * 100\n",
    "\n",
    "print('este comprimento em centímetros é:', comprimento_cm, 'cm')"
   ]
  },
  {
   "cell_type": "markdown",
   "id": "1bb8685e",
   "metadata": {},
   "source": [
    "Faça um Programa que peça o raio de um círculo, calcule e mostre sua área."
   ]
  },
  {
   "cell_type": "code",
   "execution_count": 19,
   "id": "8de4af34",
   "metadata": {},
   "outputs": [
    {
     "name": "stdout",
     "output_type": "stream",
     "text": [
      "Informe o raio do círculo em metros:4\n",
      "A área do círculo é: 50.24 m²\n"
     ]
    }
   ],
   "source": [
    "pi = 3.14\n",
    "raio = float(input('Informe o raio do círculo em metros:'))\n",
    "area = pi *(raio ** 2)\n",
    "\n",
    "print('A área do círculo é:', area,'m²')"
   ]
  },
  {
   "cell_type": "markdown",
   "id": "0a600f8e",
   "metadata": {},
   "source": [
    "Faça um Programa que calcule a área de um quadrado, em seguida mostre o dobro desta área para o usuário. "
   ]
  },
  {
   "cell_type": "code",
   "execution_count": 18,
   "id": "bbd39be6",
   "metadata": {},
   "outputs": [
    {
     "name": "stdout",
     "output_type": "stream",
     "text": [
      "Informe o comprimento do lado do quadrado em metroos: 3\n",
      "A area do quadrado é: 9.0 m²\n",
      "O dobro da área do quadrado é: 18.0 m²\n"
     ]
    }
   ],
   "source": [
    "lado = float(input('Informe o comprimento do lado do quadrado em metroos: '))\n",
    "area = lado * lado \n",
    "print('A area do quadrado é:', area, 'm²')\n",
    "print('O dobro da área do quadrado é:', 2 * area, 'm²')"
   ]
  },
  {
   "cell_type": "markdown",
   "id": "d9d66dd6",
   "metadata": {},
   "source": [
    "Faça um Prgrama que pergunte quanto você ganha por horas e o número de horas trabalhadas no mês. Calcule e mostre o total do seu salário no referido mês."
   ]
  },
  {
   "cell_type": "code",
   "execution_count": 27,
   "id": "6ee20bec",
   "metadata": {},
   "outputs": [
    {
     "name": "stdout",
     "output_type": "stream",
     "text": [
      "Informe o valor ganho por hora em R$/h: 5.51\n",
      "Informe a quantidade de horas trabalhadas no mês: 220\n",
      "O salário do mês foi: R$ 1212.2\n"
     ]
    }
   ],
   "source": [
    "valor_hora = float(input('Informe o valor ganho por hora em R$/h: '))\n",
    "horas_trabalhadas = float(input('Informe a quantidade de horas trabalhadas no mês: '))\n",
    "total = valor_hora * horas_trabalhadas\n",
    "\n",
    "print('O salário do mês foi: R$', total)"
   ]
  },
  {
   "cell_type": "markdown",
   "id": "6e01dc29",
   "metadata": {},
   "source": [
    "Faça um Programa que peça a temperatura em graus Fahrenheit, transforme e mostre a temperatura emgraus Celsius.\n",
    "C=5-9 (F - 32)"
   ]
  },
  {
   "cell_type": "code",
   "execution_count": 10,
   "id": "379f080f",
   "metadata": {},
   "outputs": [
    {
     "name": "stdout",
     "output_type": "stream",
     "text": [
      "Informe a temperatura em Fahrenhit: 5\n",
      "A temperatura é: -15.0 °C\n"
     ]
    }
   ],
   "source": [
    "temperatura_f = float(input('Informe a temperatura em Fahrenhit: '))\n",
    "temperatura_c = (5/9) * (temperatura_f - 32)\n",
    "print('A temperatura é:', temperatura_c, '°C')"
   ]
  },
  {
   "cell_type": "markdown",
   "id": "56d71c3c",
   "metadata": {},
   "source": [
    "Faça um Programa que peça a temperatura em graus Celsius, transforme e mostre em emgraus Fahreheit.\n",
    "C=9-5 (F + 32)"
   ]
  },
  {
   "cell_type": "code",
   "execution_count": 19,
   "id": "9aa77600",
   "metadata": {},
   "outputs": [
    {
     "name": "stdout",
     "output_type": "stream",
     "text": [
      "Informe a temperatura em Celsius: 10\n",
      "A temperatura é: 15201.665358336 °F\n"
     ]
    }
   ],
   "source": [
    "temperatura_c = float(input('Informe a temperatura em Celsius: '))\n",
    "temperatura_f = (9/5) * (temperatura_f + 32)\n",
    "print('A temperatura é:', temperatura_f, '°F')"
   ]
  },
  {
   "cell_type": "markdown",
   "id": "338b4721",
   "metadata": {},
   "source": [
    "Faça um Programa que peça 2 números inteiro e um número real."
   ]
  },
  {
   "cell_type": "code",
   "execution_count": 22,
   "id": "a6deb09a",
   "metadata": {},
   "outputs": [
    {
     "name": "stdout",
     "output_type": "stream",
     "text": [
      "Informe o primeiro 1° número interio: 10\n",
      "Informe o primeiro 2° número interio: 15\n",
      "Informe o primeiro real: 25\n"
     ]
    }
   ],
   "source": [
    "int1 = int(input('Informe o primeiro 1° número interio: '))\n",
    "int2 = int(input('Informe o primeiro 2° número interio: '))\n",
    "real = int(input('Informe o primeiro real: '))"
   ]
  },
  {
   "cell_type": "markdown",
   "id": "9138fce3",
   "metadata": {},
   "source": [
    "## Exercícios do Módulo 1 - Operações, Variaveis e Input"
   ]
  },
  {
   "cell_type": "markdown",
   "id": "500e6cd0",
   "metadata": {},
   "source": [
    "### Parte 1 - Operações e Variáveis "
   ]
  },
  {
   "cell_type": "markdown",
   "id": "76373ee6",
   "metadata": {},
   "source": [
    "Crie um programa que imprima(print) os principais indicadores da loja Hashtag&Drink no último ano. Obs: faça tudo usando variáveis.\n",
    "\n",
    "Valores do último ano:\n",
    "\n",
    "quantidade de Vendas de Coca = 150<br>\n",
    "quantidade de Vendas de Pepsi = 130<br>\n",
    "Preço Unitário da Coca = 1.50<br>\n",
    "Preço Unitário da Pepsi = 1.50<br>\n",
    "Custo da Loja: 2.500,00"
   ]
  },
  {
   "cell_type": "code",
   "execution_count": 1,
   "id": "1c1bec05",
   "metadata": {},
   "outputs": [],
   "source": [
    "qtde_coca = 150\n",
    "qtde_pepsi = 130\n",
    "preço_coca = 1.50\n",
    "preço_pepsi = 1.50\n",
    "custo = 2500"
   ]
  },
  {
   "cell_type": "markdown",
   "id": "629a6684",
   "metadata": {},
   "source": [
    "1. Qual foi o faturamento de Pepsi da Loja?"
   ]
  },
  {
   "cell_type": "code",
   "execution_count": 2,
   "id": "504703d2",
   "metadata": {},
   "outputs": [
    {
     "name": "stdout",
     "output_type": "stream",
     "text": [
      "195.0\n"
     ]
    }
   ],
   "source": [
    "print(qtde_pepsi * preço_pepsi)"
   ]
  },
  {
   "cell_type": "markdown",
   "id": "60e877ca",
   "metadata": {},
   "source": [
    "2. Qual foi o faturamento de Coca da Loja?"
   ]
  },
  {
   "cell_type": "code",
   "execution_count": 9,
   "id": "74d536a5",
   "metadata": {},
   "outputs": [
    {
     "name": "stdout",
     "output_type": "stream",
     "text": [
      "225.0\n"
     ]
    }
   ],
   "source": [
    "print(qtde_coca * preço_coca)"
   ]
  },
  {
   "cell_type": "markdown",
   "id": "66175ff3",
   "metadata": {},
   "source": [
    "3. Qual foi o Lucro da Loja?"
   ]
  },
  {
   "cell_type": "code",
   "execution_count": 9,
   "id": "1036c1ef",
   "metadata": {},
   "outputs": [
    {
     "name": "stdout",
     "output_type": "stream",
     "text": [
      "-2080.0\n"
     ]
    }
   ],
   "source": [
    "faturamento = qtde_coca * preço_coca + qtde_pepsi * preço_pepsi\n",
    "lucro = faturamento - custo\n",
    "print(lucro)"
   ]
  },
  {
   "cell_type": "markdown",
   "id": "63b3ba94",
   "metadata": {},
   "source": [
    "Qual foi a margem da Loja?(Lembre-se, margem=Lucro/Faturamento). Não precisa formatar em percentual."
   ]
  },
  {
   "cell_type": "code",
   "execution_count": 10,
   "id": "5f310d71",
   "metadata": {},
   "outputs": [
    {
     "name": "stdout",
     "output_type": "stream",
     "text": [
      "-4.9523809523809526\n"
     ]
    }
   ],
   "source": [
    "print(lucro / faturamento)"
   ]
  },
  {
   "cell_type": "markdown",
   "id": "c564ffc1",
   "metadata": {},
   "source": [
    "## Parte 2 - Inputs e Strings\n",
    "\n",
    "A maoiria das empresas trabalham com um Código para produto que possuem. A HashtagDrink, por exemplo, tem mais de 1.00\n",
    "produtos e possui um código para cada produto. Ex:<br>\n",
    "Coca ->Código:BEB1300543<br>\n",
    "Pepsi ->Código:BEB1300545<br>\n",
    "Vinho Primitivo->Código:BAC1546001<br>\n",
    "Vodka ->Código:BAC17675002\n",
    "\n",
    "Repare que todas as bebidas não alcóolicas tem o inicio do \"BEB\" e todas as bebidas alcóolicas tem o inicio do código \"BAC\".\n",
    "\n",
    "Crie um programa de consulta de bebidasque, dado um código qualquer, identifiqui se a bebida é alcóolica. O programa deve responder True para bebidas alcóolicas e Flse para bebidas não alcóolicas. Para inserir um código, use um input.\n",
    "Dica: Lenbre-se do comando in strings e sempre insera os códigos com letra maiúscula para facilitar."
   ]
  },
  {
   "cell_type": "code",
   "execution_count": 7,
   "id": "58780282",
   "metadata": {},
   "outputs": [
    {
     "name": "stdout",
     "output_type": "stream",
     "text": [
      "Qual é o código da bebida? (Insira tudo em letra maiúscula):1300543\n",
      "False\n"
     ]
    }
   ],
   "source": [
    "codigo = input(\"Qual é o código da bebida? (Insira tudo em letra maiúscula):\")\n",
    "print(\"BAC\" in codigo)"
   ]
  },
  {
   "cell_type": "code",
   "execution_count": 7,
   "id": "1e7154ca",
   "metadata": {},
   "outputs": [
    {
     "name": "stdout",
     "output_type": "stream",
     "text": [
      "O faturamento da loja foi 2000\n",
      "O custo da loja foi 500\n",
      "Assim, o lucro da loja foi de 1500 reais\n"
     ]
    }
   ],
   "source": [
    "faturamento = 2000\n",
    "custo = 500\n",
    "lucro = faturamento - custo\n",
    "print('O faturamento da loja foi ' + str(faturamento))\n",
    "print('O custo da loja foi ' + str(custo))\n",
    "print('Assim, o lucro da loja foi de ' + str(lucro) + ' reais')"
   ]
  },
  {
   "cell_type": "markdown",
   "id": "1e64f7a6",
   "metadata": {},
   "source": [
    "### Método formet\n"
   ]
  },
  {
   "cell_type": "code",
   "execution_count": 8,
   "id": "c3c9d090",
   "metadata": {},
   "outputs": [
    {
     "name": "stdout",
     "output_type": "stream",
     "text": [
      "O faturamento da loja 2000. O custo da loja 500 Assim, o lucro da loja 1500\n"
     ]
    }
   ],
   "source": [
    "futuramento = 2000\n",
    "custo = 500\n",
    "lucro = faturamento - custo\n",
    "print('O faturamento da loja {}. O custo da loja {} Assim, o lucro da loja {}'.format(faturamento, custo, lucro))"
   ]
  },
  {
   "cell_type": "markdown",
   "id": "19e783fc",
   "metadata": {},
   "source": [
    "### Condição no Python -> If\n",
    "\n",
    "### Estrutura:\n",
    "\n",
    "#### Uso mais simples:"
   ]
  },
  {
   "cell_type": "code",
   "execution_count": 8,
   "id": "468d9422",
   "metadata": {},
   "outputs": [],
   "source": [
    "meta = 50000\n",
    "qtde_vendida = 30000\n",
    "\n",
    "if qtde_vendida > meta:\n",
    "    print('Batemos a meta de vendas de Iphone, vendemos {} unidade'.format(qtde_vendida))"
   ]
  },
  {
   "cell_type": "markdown",
   "id": "b6508d76",
   "metadata": {},
   "source": [
    "### Tratando a condição falsa:\n",
    "\n",
    "\n",
    "#### Neste caso usaremos:\n",
    "\n",
    "if condição:<br>\n",
    "    o que eu quero fazer caso a condição seja verdadeira<br>\n",
    "else:<br> \n",
    "    o que eu quero fazer caso a condição seja falsa"
   ]
  },
  {
   "cell_type": "code",
   "execution_count": 10,
   "id": "fbb615d0",
   "metadata": {},
   "outputs": [
    {
     "name": "stdout",
     "output_type": "stream",
     "text": [
      "Infelizmente não batemos a meta, vendemos 15000 unidades. A meta era de 50000 unidades\n"
     ]
    }
   ],
   "source": [
    "meta = 50000\n",
    "qtde_vendida = 15000\n",
    "\n",
    "if qtde_vendida > meta:\n",
    "    print('Batemos a meta de vendas de Iphone, vendemos {} unidades'.format(qtde_vendida))\n",
    "    \n",
    "else:\n",
    "    print('Infelizmente não batemos a meta, vendemos {} unidades. A meta era de {} unidades'.format(qtde_vendida, meta))\n",
    "    "
   ]
  },
  {
   "cell_type": "markdown",
   "id": "4fbb6a70",
   "metadata": {},
   "source": [
    "### A regra desse fundo de investimento è:"
   ]
  },
  {
   "cell_type": "code",
   "execution_count": 15,
   "id": "8d619142",
   "metadata": {},
   "outputs": [
    {
     "name": "stdout",
     "output_type": "stream",
     "text": [
      "A taxa foi de 0.04\n"
     ]
    }
   ],
   "source": [
    "meta = 0.05\n",
    "taxa = 0\n",
    "rendimento = 0.25\n",
    "\n",
    "if rendimento > meta:\n",
    "    if rendimento > 0.20:\n",
    "        taxa =  0.04\n",
    "        print('A taxa foi de {}'.format(taxa))\n",
    "    else:\n",
    "        taxa = 0.02\n",
    "        print('A taxa foi de {}'.format(taxa))\n",
    "else:\n",
    "    taxa = 0\n",
    "    print('A taxa foi de {}'.format(taxa))"
   ]
  },
  {
   "cell_type": "code",
   "execution_count": 2,
   "id": "cc0c461b",
   "metadata": {},
   "outputs": [
    {
     "name": "stdout",
     "output_type": "stream",
     "text": [
      "Ganhou 3500.0000000000005 de bônus\n"
     ]
    }
   ],
   "source": [
    "meta = 20000\n",
    "vendas = 50000\n",
    "\n",
    "if vendas < meta:\n",
    "    print('Não ganhou bônus')\n",
    "elif vendas > (meta * 2):\n",
    "    bonus = 0.07 * vendas\n",
    "    print('Ganhou {} de bônus'.format(bonus))\n",
    "else:\n",
    "    bonus = 0.03 * vendas\n",
    "    print('Ganhou {} de bônus'.format(bonus))"
   ]
  },
  {
   "cell_type": "markdown",
   "id": "3db0c38a",
   "metadata": {},
   "source": [
    "## Exercício com if\n",
    "\n",
    "\n",
    "### 1. Cálculo de Bônus\n",
    "\n",
    "\n",
    "     . Crie um programa que calcule e dê um pront no bônus que os funcionários deve receber segundo as regras: \n",
    "     \n",
    "A meta é 1000 vendas.<br>\n",
    "Se o valor de vendas for maior ou menor a meta, o valor do bônus do funcionário é 10% do valor de vendas.\n",
    "Caso contrário o valor de bônus do funcionário é 0.<br>\n",
    "Print o bônus dos 3 funcionários\n"
   ]
  },
  {
   "cell_type": "code",
   "execution_count": 6,
   "id": "f5750357",
   "metadata": {},
   "outputs": [
    {
     "name": "stdout",
     "output_type": "stream",
     "text": [
      "O funcionario 1 ganhou 100.0 de bônus\n",
      "O funcionário 2 ganhou 0 de bônus\n",
      "O funcionario 3 ganhou 270.0 de bônus\n"
     ]
    }
   ],
   "source": [
    "vendas_funcionario1 = 1000\n",
    "vendas_funcionario2 = 770\n",
    "vendas_funcionario3 = 2700\n",
    "\n",
    "#cria o codigo aqui\n",
    "if vendas_funcionario1 >= 1000:\n",
    "    print('O funcionario 1 ganhou {} de bônus'.format(vendas_funcionario1 * 0.1))\n",
    "    \n",
    "if vendas_funcionario2 >= 1000:\n",
    "    bônus = vendas_funcionari2 * 0.1\n",
    "else:\n",
    "    bonus = 0\n",
    "print('O funcionário 2 ganhou {} de bônus'.format(bonus))\n",
    "    \n",
    "if vendas_funcionario3 >= 1000:\n",
    "    bonus = vendas_funcionario3 * 0.1\n",
    "else:\n",
    "    bonus = 0\n",
    "print('O funcionario 3 ganhou {} de bônus'.format(bonus))          "
   ]
  },
  {
   "cell_type": "markdown",
   "id": "01d4b8b1",
   "metadata": {},
   "source": [
    "## 2. Cálcule de bônus com uma nova regra\n",
    "    \n",
    "   . Agora, crie um novo código que calcule e dê um print no bônus dos funcionários navamente. Porém há uma nova regra nesse 2º caso:\n",
    "    \n",
    "A meta é 1000 vendas<br>\n",
    "Agora, os funcionários que venderam muito acima da meta ganham mais bônus do que os outros. Entâo o bônus é defenido da seguinte forma:\n",
    "\n",
    ".Se vendas funcionário for maior ou igual a 2000. então o bônus é de 15% sobre o valor de vendas\n",
    ".Se vendas funcionário for menor ou igual a 2000. e maior ou igual a 1000, então o bônus é de 10% sobre o valor de vendas\n",
    ".Se vendas funcionário for menor do que 1000. então o bônus é de 0.\n",
    "\n",
    "Use as mesmas variáves de vendas_funcionário\n",
    "\n"
   ]
  },
  {
   "cell_type": "code",
   "execution_count": 9,
   "id": "8f333b7d",
   "metadata": {},
   "outputs": [
    {
     "name": "stdout",
     "output_type": "stream",
     "text": [
      "O funcionário 1 ganhou 100.0 de bônus\n",
      "O funcionario 2 ganhou 0 de bonus\n",
      "O funcionário 3 ganhou 405.0 de bônus\n"
     ]
    }
   ],
   "source": [
    "#crie seu código aqui\n",
    "#obs: há 2 formas de fazer, com if dentro de if e elif. Escolha a que você preferir\n",
    "\n",
    "if vendas_funcionario1 >= 1000:\n",
    "    if vendas_funcionario1 >= 2000:\n",
    "        bonus = 0.15 * vendas_funcionario1\n",
    "    else:\n",
    "        bonus = 0.1 * vendas_funcionario1\n",
    "else:\n",
    "    bonus = 0\n",
    "print('O funcionário 1 ganhou {} de bônus'.format(bonus))\n",
    "\n",
    "#2º maneira -> if e elif\n",
    "\n",
    "if vendas_funcionario2 >= 2000:\n",
    "    bonus = 0.15 * vendas_funcionario2\n",
    "elif vendas_funcionario2 >= 1000:\n",
    "    bonus = 0.1 * vendas_funcionario2\n",
    "else:\n",
    "    bonus = 0\n",
    "print('O funcionario 2 ganhou {} de bonus'.format(bonus))\n",
    "\n",
    "######\n",
    "if vendas_funcionario3 >= 1000:\n",
    "    if vendas_funcionario3 >= 2000:\n",
    "        bonus = 0.15 * vendas_funcionario3\n",
    "    else:\n",
    "        bonus = 0.1 * vendas_funcionario3\n",
    "else:\n",
    "    bonus = 0\n",
    "print('O funcionário 3 ganhou {} de bônus'.format(bonus)) "
   ]
  },
  {
   "cell_type": "markdown",
   "id": "aac402ee",
   "metadata": {},
   "source": [
    "## Casos com vários condições/comparações\n",
    "\n",
    "\n",
    "#### Estrutura:\n",
    "\n",
    "Quando temos várias coparações, ao invés de criar if podemos usar os operadores \"and\" e \"or\" para tratar essas condições.\n",
    "\n",
    "Funciona assim:\n",
    "\n",
    "\n",
    "if condição_1 and condição_2:\n",
    "    vai ser executado se as 2 condição forem verdadeiras ao mesmo tempo\n",
    "    \n",
    "outro caso:\n",
    "\n",
    "if condição_1 or condição_2:\n",
    "    vai ser executado se pelo menos uma das condições forem verdadeiras\n",
    "    \n",
    "    \n",
    " \n",
    "Exemplo\n",
    "\n",
    "Vamos voltar ao exemlo de cálcular de meta de vendas dos funcionários. Muitas empresas atribuim bonificação do salário dos funcionários de acordo com o resultado do funcionário e tambem com o resultado da empresa como um todo.\n",
    "\n",
    "Nesse caso, a regra funciona da seguinte forma:\n",
    "\n",
    "    . SE o funcionário vendeu mais do que a meta de vendas e a loja bateu a meta de vendas da loja, o funcioário ganha 3% do que ele vendeu em bonus.\n",
    "    . Caso o funcionário tenha batida a meta de vendas individual dele, mas a loja não tenha batido a meta de vendas da loja como o todo, o fucionário ganha bonus."
   ]
  },
  {
   "cell_type": "markdown",
   "id": "c3e7420a",
   "metadata": {},
   "source": [
    " ### Exercícios\n",
    " \n",
    " #### 1. Criando um mini sistema de controle de estoque\n",
    " \n",
    " - Crie um sistema para ser usado pelo time de controle de um centro de distribuição.<br>\n",
    " - Imagine que ao fim de todo dia, o time conta quantas unidades de produto existem no estoque. Se tivermos um estoque abaixo do estoque permitido para aquela categoria de produto. o time deve ser avisado(print)para faser um novo pedidodaquele produto.<br>\n",
    " - Cada categoria de produto tem um estoque minimo deferente, seguindo a regra abaixo:<br>\n",
    " - alimento -> Estoque minimo: 50<br>\n",
    "  bebidas -> Estoque minimo: 75<br>\n",
    " - limpesa -> Estoque minimo: 30      \n"
   ]
  },
  {
   "cell_type": "markdown",
   "id": "12f92900",
   "metadata": {},
   "source": [
    "Para isso vamos criar um programa que pede 3 inputs do usuário: nome do produto, categoria e quantidade atual em estoque.\n",
    "\n",
    "Se o produto tiver abaixo do estoque mínimo da categoria dele, o programa deve printar a mensagem \"Solicitar {produto} à equipe de compras, temos apenas {unidades} em estoque\"\n",
    "\n",
    "Exemplo: Se o usuário preenche os inputs com: bebidas, dolly, 90, o programa não deve exibir nenhuma mensagem.\n",
    "Agora, se o usuário preenche os inputs com: bebidas, guaraná, 60, o programa deve exibir a mensagem \"Solicitar guaraná à equipe de compras, temos apenas 60 unidades em estoque.\n",
    "\n",
    "Obs: lembre de usar o int() para transformar o número inserido pelo usuário no input de string para int.\n",
    "Obs2: Caso o usuário não preencha alguma das 3 informações, o programa deve exibir uma mensagem para avisá-lo de preencher corretamente."
   ]
  },
  {
   "cell_type": "code",
   "execution_count": 1,
   "id": "92fc4f07",
   "metadata": {},
   "outputs": [
    {
     "name": "stdout",
     "output_type": "stream",
     "text": [
      "Qual o produto?dolly\n",
      "Qual a categoria do produto?bebidas\n",
      "Qual a quantidade atual do produto?12\n",
      "Solicitar dolly à equipe de compras, temos apenas 12 unidades em estoque\n"
     ]
    }
   ],
   "source": [
    "produto = input('Qual o produto?')\n",
    "categoria = input('Qual a categoria do produto?')\n",
    "qtde = input('Qual a quantidade atual do produto?')\n",
    "\n",
    "if produto and categoria and qtde:\n",
    "    qtde = int(qtde)\n",
    "    if categoria == 'bebidas':\n",
    "        if qtde < 75:\n",
    "            print('Solicitar {} à equipe de compras, temos apenas {} unidades em estoque'.format(produto, qtde))\n",
    "    elif categoria == 'limpeza':\n",
    "        if qtde < 30:\n",
    "            print('Solicitar {} à equipe de compras, temos apenas {} unidades em estoque'.format(produto, qtde))\n",
    "    else:\n",
    "        if qtde < 50:\n",
    "            print('Solicitar {} à equipe de compras, temos apenas {} unidades em estoque'.format(produto, qtde))\n",
    "else:\n",
    "    print('Preencha todas as informações')    "
   ]
  },
  {
   "cell_type": "markdown",
   "id": "d5f8af42",
   "metadata": {},
   "source": [
    "###  ------------------------------------------\"-------------------------------------------\n",
    "\n",
    "### Esxercício: Listas "
   ]
  },
  {
   "cell_type": "raw",
   "id": "62be69a6",
   "metadata": {},
   "source": [
    "0  1  2  3  4  5  6  7  8  9 10 11 12 13\n",
    "l  i  r  a  @  g  m  a  i  l  .  c  o  m\n",
    "\n",
    "Pegar u item de uma string: texto[índice]Pegar o tamanho de um texto: len(texto)"
   ]
  },
  {
   "cell_type": "code",
   "execution_count": 10,
   "id": "a5c0fa9b",
   "metadata": {},
   "outputs": [
    {
     "name": "stdout",
     "output_type": "stream",
     "text": [
      "l\n"
     ]
    }
   ],
   "source": [
    "email = 'lira@gmail.com'\n",
    "nome = 'Jõao Lira'\n",
    "print(email[0])"
   ]
  },
  {
   "cell_type": "raw",
   "id": "4ca87a91",
   "metadata": {},
   "source": [
    "Texto: lira@gmail.com\n",
    "\n",
    "-14 -13 -12 -11 -10 -9 -8 -7 -6 -5 -4 -3 -2 -1\n",
    "  l   i   r   a   @  g  m  a  i  l  .  c  o  m   \n",
    "  0   1   2   3   4  5  6  7  8  9 10 11 12 13 \n",
    "  \n",
    "Para pegar um texto de trás para frente: texto[indice] -> é negativo\n",
    "Para pegar o pedaço de um testo use : (dois pontos). texto[:indece] ou texto[indice:] ou ainda texto[indece:indece] \n"
   ]
  },
  {
   "cell_type": "code",
   "execution_count": 1,
   "id": "974c14b6",
   "metadata": {},
   "outputs": [
    {
     "name": "stdout",
     "output_type": "stream",
     "text": [
      "gma\n"
     ]
    }
   ],
   "source": [
    "email = 'lira@gmail.com'\n",
    "nome = 'Jõao Paulo Lira'\n",
    "\n",
    "print(email[5:8])"
   ]
  },
  {
   "cell_type": "markdown",
   "id": "ee58b95b",
   "metadata": {},
   "source": [
    "#### Exercício para Fixação: Basta completa os prints de forma correta"
   ]
  },
  {
   "cell_type": "code",
   "execution_count": 2,
   "id": "6c6c6e4f",
   "metadata": {},
   "outputs": [
    {
     "name": "stdout",
     "output_type": "stream",
     "text": [
      "Tamanho do e-mail 14 caracterio\n",
      "Primeiro caracterio l\n",
      "Servidor do email gma\n"
     ]
    }
   ],
   "source": [
    "print('Tamanho do e-mail ' + str(len(email)) + ' caracterio')\n",
    "print('Primeiro caracterio ' + email[0])\n",
    "print('Servidor do email ' + email[5:8])"
   ]
  },
  {
   "cell_type": "markdown",
   "id": "6c2074d9",
   "metadata": {},
   "source": [
    "## Operações com String\n",
    "\n",
    "str->transformar número em string<br>\n",
    "in->verificar se um texto está contido dentro do outro<br>\n",
    "operador + ->concatenar string<br>\n",
    "format e{}->substitui valores<br>\n",
    "%s->substitui textos>br<br>\n",
    "%d->substitui números decimais"
   ]
  },
  {
   "cell_type": "code",
   "execution_count": 2,
   "id": "5aa955bd",
   "metadata": {},
   "outputs": [],
   "source": [
    "faturamento = 1000\n",
    "custo = 500\n",
    "lucro = faturamento - custo"
   ]
  },
  {
   "cell_type": "markdown",
   "id": "17c36e04",
   "metadata": {},
   "source": [
    "Uso do str()e do concatenar com +"
   ]
  },
  {
   "cell_type": "code",
   "execution_count": 5,
   "id": "1eab1947",
   "metadata": {},
   "outputs": [
    {
     "name": "stdout",
     "output_type": "stream",
     "text": [
      "O faturamento da loja foi de:1000 O custo foi de 500 O lucro foi de + 500\n"
     ]
    }
   ],
   "source": [
    "print('O faturamento da loja foi de:' + str(faturamento) + ' O custo foi de ' + str(custo) + ' O lucro foi de + ' + str(lucro))"
   ]
  },
  {
   "cell_type": "markdown",
   "id": "464dd7b2",
   "metadata": {},
   "source": [
    "Uso do Format"
   ]
  },
  {
   "cell_type": "code",
   "execution_count": 14,
   "id": "c74d74cd",
   "metadata": {},
   "outputs": [
    {
     "name": "stdout",
     "output_type": "stream",
     "text": [
      "O faturamento foi de: 1000\n"
     ]
    }
   ],
   "source": [
    "print('O faturamento foi de: {}'.format(faturamento))"
   ]
  },
  {
   "cell_type": "markdown",
   "id": "bb1bc2f5",
   "metadata": {},
   "source": [
    "Uso do %s e %d"
   ]
  },
  {
   "cell_type": "code",
   "execution_count": 17,
   "id": "e5fab9ff",
   "metadata": {},
   "outputs": [
    {
     "name": "stdout",
     "output_type": "stream",
     "text": [
      "O faturamento foi de: 1000. o custo foi de 500 e o lucro foi de 500\n"
     ]
    }
   ],
   "source": [
    "print('O faturamento foi de: {}. o custo foi de {} e o lucro foi de {}'.format(faturamento, custo, lucro))"
   ]
  },
  {
   "cell_type": "code",
   "execution_count": null,
   "id": "99b3e1c4",
   "metadata": {},
   "outputs": [],
   "source": [
    "prin('O faturamento foi de:')"
   ]
  },
  {
   "cell_type": "markdown",
   "id": "4894ce36",
   "metadata": {},
   "source": [
    "# Dicionários em Python\n",
    "\n",
    "### Estrutura:\n",
    "\n",
    "dicionario = {chave: valor, chave: valor, chave: valor, chave: valor ...}\n",
    "\n",
    "### Vantagens e Desvantagens\n",
    "\n",
    "- Não devem ser usados para pegar itens em uma determinada ordem\n",
    "- Podem ter valores heterogêneos (vários tipos de valores dentro de um mesmo dicionário: inteiros, strings, listas, etc)\n",
    "- Chaves são únicas obrigatoriamente\n",
    "- Mais intuitivos de trabalhar"
   ]
  },
  {
   "cell_type": "code",
   "execution_count": 5,
   "id": "2b8e1c8b",
   "metadata": {},
   "outputs": [],
   "source": [
    "mais_vendidos = {'tecnologia': 'iphone', 'refrigeracao': 'ar consul 12000 btu', 'livros': 'o alquimista', 'eletrodoméstico': 'geladeira', 'lazer': 'prancha surf'}\n",
    "\n",
    "vendas_tecnologia = {'iphone': 15000, 'samsung galaxy': 12000, 'tv samsung': 10000, 'ps5': 14300, 'tablet': 1720, 'ipad': 1000, 'tv philco': 2500, 'notebook hp': 1000, 'notebook dell': 17000, 'notebook asus': 2450}"
   ]
  },
  {
   "cell_type": "markdown",
   "id": "c0e036cf",
   "metadata": {},
   "source": [
    "- Qual foi o item mais vendido nas categorias 'livros' e 'lazer'?\n",
    "- Quanto foi vendido de 'notebook asus' e de 'ipad'?"
   ]
  },
  {
   "cell_type": "code",
   "execution_count": 7,
   "id": "0fe03295",
   "metadata": {},
   "outputs": [
    {
     "name": "stdout",
     "output_type": "stream",
     "text": [
      "15000\n"
     ]
    }
   ],
   "source": [
    "qtde_iphone = vendas_tecnologia['iphone']\n",
    "print(qtde_iphone)"
   ]
  },
  {
   "cell_type": "code",
   "execution_count": 5,
   "id": "f65476aa",
   "metadata": {},
   "outputs": [
    {
     "name": "stdout",
     "output_type": "stream",
     "text": [
      "o alquimista\n",
      "prancha surf\n",
      "2450\n",
      "1000\n"
     ]
    }
   ],
   "source": [
    "livro = mais_vendidos['livros']\n",
    "lazer = mais_vendidos['lazer']\n",
    "print(livro)\n",
    "print(lazer)\n",
    "qtde_noteasus = vendas_tecnologia['notebook asus']\n",
    "qtde_ipad = vendas_tecnologia['ipad']\n",
    "print(qtde_noteasus)\n",
    "print(qtde_ipad)"
   ]
  },
  {
   "cell_type": "markdown",
   "id": "fb1866b5",
   "metadata": {},
   "source": [
    "### Verificar se item está no dicionário:\n",
    "\n",
    "- if\n",
    "- .get(chave)= None\n",
    "\n",
    "Se tentarmos procurar as vendas de \"copo\" na lista de vendas tecnologia, o que acontece?"
   ]
  },
  {
   "cell_type": "code",
   "execution_count": 6,
   "id": "dad25a01",
   "metadata": {},
   "outputs": [
    {
     "name": "stdout",
     "output_type": "stream",
     "text": [
      "Copo não está dentro da lista de produtos de tecnologia\n"
     ]
    }
   ],
   "source": [
    "if vendas_tecnologia.get('copo') == None:\n",
    "    print('Copo não está dentro da lista de produtos de tecnologia')\n",
    "else:\n",
    "    print(vendas_tecnologia.get('copo'))\n",
    "    "
   ]
  },
  {
   "cell_type": "markdown",
   "id": "bbc8d978",
   "metadata": {},
   "source": [
    "## Adiocinar, Remover e Modifcar Itens no Docionário\n",
    "\n",
    "### Estrutura:\n",
    "\n",
    "- Adicionar itens:\n",
    "\n",
    "dicionario = {}\n",
    "\n",
    "dicionario[chave] = valor\n",
    "\n",
    "outro opção:\n",
    "\n",
    "dicionario.update({chave. valor, chave: valor})"
   ]
  },
  {
   "cell_type": "code",
   "execution_count": 2,
   "id": "28f4e0bf",
   "metadata": {},
   "outputs": [
    {
     "name": "stdout",
     "output_type": "stream",
     "text": [
      "{'Janeiro': 100000, 'Fevereiro': 120000, 'março': 90000, 'abril': 88000, 'maio': 89000, 'junho': 12000}\n",
      "{'Janeiro': 100000, 'Fevereiro': 120000, 'março': 90000, 'abril': 88000, 'maio': 89000, 'junho': 12000, 'janeiro': 88000}\n"
     ]
    }
   ],
   "source": [
    "lucro_1tri = {'Janeiro': 100000, 'Fevereiro': 120000, 'março': 90000}\n",
    "lucro_2tri = {'Abril': 88000, 'maio': 89000, 'junho': 12000}\n",
    "#adiocionando 1 item\n",
    "#print(lucro_1tri)\n",
    "#lucro_1tri['Abril'] = 88000\n",
    "#print(lucro_1tri)\n",
    "#adicionando vários itens ou um dionário a outro\n",
    "lucro_1tri.update({'abril': 88000, 'maio': 89000, 'junho': 12000})\n",
    "print(lucro_1tri)\n",
    "#adionando um item já existente (manualmente ou pelo update)\n",
    "lucro_1tri['janeiro'] = 88000\n",
    "print(lucro_1tri)"
   ]
  },
  {
   "cell_type": "markdown",
   "id": "86758363",
   "metadata": {},
   "source": [
    "+ Modificar itens:\n",
    "\n",
    "Da mesma forma que adionamos 1 valor, caso essa chave já exista o item é apenas modificado.\n",
    "\n",
    "dicionario[chave]=valor\n",
    "\n",
    "Vamos modificar o lucro de fevereiro:\n",
    "(Lembrando: caso o item não exista, ele criar o item no dicioonário)"
   ]
  },
  {
   "cell_type": "code",
   "execution_count": 3,
   "id": "748774af",
   "metadata": {},
   "outputs": [
    {
     "name": "stdout",
     "output_type": "stream",
     "text": [
      "{'Janeiro': 100000, 'Fevereiro': 120000, 'março': 90000, 'abril': 88000, 'maio': 89000, 'junho': 12000, 'janeiro': 88000, 'fevereiro': 85000}\n"
     ]
    }
   ],
   "source": [
    "lucro_fev = 85000\n",
    "\n",
    "lucro_1tri['fevereiro'] = lucro_fev\n",
    "print(lucro_1tri)"
   ]
  },
  {
   "cell_type": "markdown",
   "id": "7d6929de",
   "metadata": {},
   "source": [
    "+ Remover itens:\n",
    "\n",
    "del diocionario[chave]\n",
    "\n",
    "ou então\n",
    "\n",
    "valor = dicionario.pop(chave)\n",
    "\n",
    "mas cuidado com:\n",
    "\n",
    "del dicionario \n",
    "-> que é diferente de dicionario.clear()"
   ]
  },
  {
   "cell_type": "code",
   "execution_count": 4,
   "id": "caa70c5a",
   "metadata": {},
   "outputs": [
    {
     "name": "stdout",
     "output_type": "stream",
     "text": [
      "{'Janeiro': 100000, 'Fevereiro': 120000, 'março': 90000, 'abril': 88000, 'maio': 89000, 'janeiro': 88000, 'fevereiro': 85000}\n",
      "12000\n",
      "['Lira', 'Maria', 'Paula']\n"
     ]
    }
   ],
   "source": [
    "#removendo o mês de junho\n",
    "lucro_jun = lucro_1tri.pop('junho')\n",
    "print(lucro_1tri)\n",
    "print(lucro_jun)\n",
    "\n",
    "#obs: o del também funciona para lista, caso queira uasar\n",
    "#del lista[i]\n",
    "funcionarios = ['João', 'Lira', 'Maria', 'Paula']\n",
    "del funcionarios[0]\n",
    "print(funcionarios)"
   ]
  }
 ],
 "metadata": {
  "kernelspec": {
   "display_name": "Python 3 (ipykernel)",
   "language": "python",
   "name": "python3"
  },
  "language_info": {
   "codemirror_mode": {
    "name": "ipython",
    "version": 3
   },
   "file_extension": ".py",
   "mimetype": "text/x-python",
   "name": "python",
   "nbconvert_exporter": "python",
   "pygments_lexer": "ipython3",
   "version": "3.9.12"
  }
 },
 "nbformat": 4,
 "nbformat_minor": 5
}
